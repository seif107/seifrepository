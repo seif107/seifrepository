{
 "cells": [
  {
   "cell_type": "markdown",
   "id": "90f11ea4",
   "metadata": {},
   "source": [
    "# Data Science Tools and Ecosystem"
   ]
  },
  {
   "cell_type": "markdown",
   "id": "0593fa99",
   "metadata": {},
   "source": [
    "## In this notebook, Data Science Tools and Ecosystem are summarized "
   ]
  },
  {
   "cell_type": "markdown",
   "id": "6dd6e92f",
   "metadata": {},
   "source": [
    "**Objectives**\n",
    "- List Popular Data Science Languages\n",
    "- List Commonly Used Libraries For Data Science\n",
    "- Demonstrate Arthimetic Applications or Expressions In Python\n",
    "- Showcase How Markdown Cells Can Be Employed"
   ]
  },
  {
   "cell_type": "markdown",
   "id": "ebc881e0",
   "metadata": {},
   "source": [
    "### Some of the popular languages that Data Scientists use are:\n",
    "1. Python\n",
    "2. R\n",
    "3. SQL(Structured Query Language)\n",
    "4. Julia\n",
    "5. JavaScript"
   ]
  },
  {
   "cell_type": "markdown",
   "id": "ab821deb",
   "metadata": {},
   "source": [
    "### Some of the commonly used libraries used by data scientists include:\n",
    "1. Pandas\n",
    "2. NumPy\n",
    "3. Scikit Learn\n",
    "4. ggplot2\n",
    "5. Stringr\n",
    "6. Caret\n",
    "7. TensorFlow"
   ]
  },
  {
   "cell_type": "markdown",
   "id": "9da4b601",
   "metadata": {},
   "source": [
    "| Data Science Tools |\n",
    "| ---------------- |\n",
    "| Jupyter Notebooks  |\n",
    "| Apache Zeppelin    |\n",
    "| R Studio           |"
   ]
  },
  {
   "cell_type": "markdown",
   "id": "3eefd490",
   "metadata": {},
   "source": [
    "### Below are a few examples of evaluating arthimetic expression in Python"
   ]
  },
  {
   "cell_type": "code",
   "execution_count": 3,
   "id": "23b13e8f",
   "metadata": {},
   "outputs": [
    {
     "data": {
      "text/plain": [
       "17"
      ]
     },
     "execution_count": 3,
     "metadata": {},
     "output_type": "execute_result"
    }
   ],
   "source": [
    "# This is a simple arthimetic expression to multiply then add integers\n",
    "(3*4)+5"
   ]
  },
  {
   "cell_type": "code",
   "execution_count": 4,
   "id": "a4070ff7",
   "metadata": {},
   "outputs": [
    {
     "data": {
      "text/plain": [
       "3.3333333333333335"
      ]
     },
     "execution_count": 4,
     "metadata": {},
     "output_type": "execute_result"
    }
   ],
   "source": [
    "# This will convert 200 minutes to hours by divding by 60\n",
    "200/60"
   ]
  },
  {
   "cell_type": "markdown",
   "id": "f583f02c",
   "metadata": {},
   "source": [
    "## Author\n",
    "Seif El Din Mohamed"
   ]
  },
  {
   "cell_type": "code",
   "execution_count": null,
   "id": "3819be21",
   "metadata": {},
   "outputs": [],
   "source": []
  }
 ],
 "metadata": {
  "kernelspec": {
   "display_name": "Python 3 (ipykernel)",
   "language": "python",
   "name": "python3"
  },
  "language_info": {
   "codemirror_mode": {
    "name": "ipython",
    "version": 3
   },
   "file_extension": ".py",
   "mimetype": "text/x-python",
   "name": "python",
   "nbconvert_exporter": "python",
   "pygments_lexer": "ipython3",
   "version": "3.11.5"
  }
 },
 "nbformat": 4,
 "nbformat_minor": 5
}
